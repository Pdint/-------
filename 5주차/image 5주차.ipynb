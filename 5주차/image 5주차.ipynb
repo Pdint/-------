{
 "cells": [
  {
   "cell_type": "markdown",
   "metadata": {},
   "source": [
    "#이미지 변환 해보기"
   ]
  },
  {
   "cell_type": "code",
   "execution_count": 3,
   "metadata": {},
   "outputs": [],
   "source": [
    "from PIL import Image"
   ]
  },
  {
   "cell_type": "code",
   "execution_count": 2,
   "metadata": {},
   "outputs": [
    {
     "ename": "KeyboardInterrupt",
     "evalue": "",
     "output_type": "error",
     "traceback": [
      "\u001b[1;31m---------------------------------------------------------------------------\u001b[0m",
      "\u001b[1;31mAttributeError\u001b[0m                            Traceback (most recent call last)",
      "File \u001b[1;32mc:\\Users\\Hwang\\AppData\\Local\\Programs\\Python\\Python311\\Lib\\site-packages\\PIL\\ImageFile.py:515\u001b[0m, in \u001b[0;36m_save\u001b[1;34m(im, fp, tile, bufsize)\u001b[0m\n\u001b[0;32m    514\u001b[0m \u001b[39mtry\u001b[39;00m:\n\u001b[1;32m--> 515\u001b[0m     fh \u001b[39m=\u001b[39m fp\u001b[39m.\u001b[39;49mfileno()\n\u001b[0;32m    516\u001b[0m     fp\u001b[39m.\u001b[39mflush()\n",
      "\u001b[1;31mAttributeError\u001b[0m: '_idat' object has no attribute 'fileno'",
      "\nDuring handling of the above exception, another exception occurred:\n",
      "\u001b[1;31mKeyboardInterrupt\u001b[0m                         Traceback (most recent call last)",
      "\u001b[1;32mg:\\User\\Hwang\\Documents\\GitHub\\Crwling-r\\5주차\\image 5주차.ipynb 셀 3\u001b[0m line \u001b[0;36m5\n\u001b[0;32m      <a href='vscode-notebook-cell:/g%3A/User/Hwang/Documents/GitHub/Crwling-r/5%EC%A3%BC%EC%B0%A8/image%205%EC%A3%BC%EC%B0%A8.ipynb#W2sZmlsZQ%3D%3D?line=1'>2</a>\u001b[0m img \u001b[39m=\u001b[39m Image\u001b[39m.\u001b[39mopen(\u001b[39m\"\u001b[39m\u001b[39mrock.jpg\u001b[39m\u001b[39m\"\u001b[39m)\n\u001b[0;32m      <a href='vscode-notebook-cell:/g%3A/User/Hwang/Documents/GitHub/Crwling-r/5%EC%A3%BC%EC%B0%A8/image%205%EC%A3%BC%EC%B0%A8.ipynb#W2sZmlsZQ%3D%3D?line=3'>4</a>\u001b[0m \u001b[39m#이미지 표시\u001b[39;00m\n\u001b[1;32m----> <a href='vscode-notebook-cell:/g%3A/User/Hwang/Documents/GitHub/Crwling-r/5%EC%A3%BC%EC%B0%A8/image%205%EC%A3%BC%EC%B0%A8.ipynb#W2sZmlsZQ%3D%3D?line=4'>5</a>\u001b[0m img\u001b[39m.\u001b[39;49mshow()\n",
      "File \u001b[1;32mc:\\Users\\Hwang\\AppData\\Local\\Programs\\Python\\Python311\\Lib\\site-packages\\PIL\\Image.py:2467\u001b[0m, in \u001b[0;36mImage.show\u001b[1;34m(self, title)\u001b[0m\n\u001b[0;32m   2447\u001b[0m \u001b[39mdef\u001b[39;00m \u001b[39mshow\u001b[39m(\u001b[39mself\u001b[39m, title\u001b[39m=\u001b[39m\u001b[39mNone\u001b[39;00m):\n\u001b[0;32m   2448\u001b[0m \u001b[39m    \u001b[39m\u001b[39m\"\"\"\u001b[39;00m\n\u001b[0;32m   2449\u001b[0m \u001b[39m    Displays this image. This method is mainly intended for debugging purposes.\u001b[39;00m\n\u001b[0;32m   2450\u001b[0m \n\u001b[1;32m   (...)\u001b[0m\n\u001b[0;32m   2464\u001b[0m \u001b[39m    :param title: Optional title to use for the image window, where possible.\u001b[39;00m\n\u001b[0;32m   2465\u001b[0m \u001b[39m    \"\"\"\u001b[39;00m\n\u001b[1;32m-> 2467\u001b[0m     _show(\u001b[39mself\u001b[39;49m, title\u001b[39m=\u001b[39;49mtitle)\n",
      "File \u001b[1;32mc:\\Users\\Hwang\\AppData\\Local\\Programs\\Python\\Python311\\Lib\\site-packages\\PIL\\Image.py:3506\u001b[0m, in \u001b[0;36m_show\u001b[1;34m(image, **options)\u001b[0m\n\u001b[0;32m   3503\u001b[0m \u001b[39mdef\u001b[39;00m \u001b[39m_show\u001b[39m(image, \u001b[39m*\u001b[39m\u001b[39m*\u001b[39moptions):\n\u001b[0;32m   3504\u001b[0m     \u001b[39mfrom\u001b[39;00m \u001b[39m.\u001b[39;00m \u001b[39mimport\u001b[39;00m ImageShow\n\u001b[1;32m-> 3506\u001b[0m     ImageShow\u001b[39m.\u001b[39;49mshow(image, \u001b[39m*\u001b[39;49m\u001b[39m*\u001b[39;49moptions)\n",
      "File \u001b[1;32mc:\\Users\\Hwang\\AppData\\Local\\Programs\\Python\\Python311\\Lib\\site-packages\\PIL\\ImageShow.py:60\u001b[0m, in \u001b[0;36mshow\u001b[1;34m(image, title, **options)\u001b[0m\n\u001b[0;32m     51\u001b[0m \u001b[39m\u001b[39m\u001b[39mr\u001b[39m\u001b[39m\"\"\"\u001b[39;00m\n\u001b[0;32m     52\u001b[0m \u001b[39mDisplay a given image.\u001b[39;00m\n\u001b[0;32m     53\u001b[0m \n\u001b[1;32m   (...)\u001b[0m\n\u001b[0;32m     57\u001b[0m \u001b[39m:returns: ``True`` if a suitable viewer was found, ``False`` otherwise.\u001b[39;00m\n\u001b[0;32m     58\u001b[0m \u001b[39m\"\"\"\u001b[39;00m\n\u001b[0;32m     59\u001b[0m \u001b[39mfor\u001b[39;00m viewer \u001b[39min\u001b[39;00m _viewers:\n\u001b[1;32m---> 60\u001b[0m     \u001b[39mif\u001b[39;00m viewer\u001b[39m.\u001b[39;49mshow(image, title\u001b[39m=\u001b[39;49mtitle, \u001b[39m*\u001b[39;49m\u001b[39m*\u001b[39;49moptions):\n\u001b[0;32m     61\u001b[0m         \u001b[39mreturn\u001b[39;00m \u001b[39mTrue\u001b[39;00m\n\u001b[0;32m     62\u001b[0m \u001b[39mreturn\u001b[39;00m \u001b[39mFalse\u001b[39;00m\n",
      "File \u001b[1;32mc:\\Users\\Hwang\\AppData\\Local\\Programs\\Python\\Python311\\Lib\\site-packages\\PIL\\ImageShow.py:84\u001b[0m, in \u001b[0;36mViewer.show\u001b[1;34m(self, image, **options)\u001b[0m\n\u001b[0;32m     81\u001b[0m     \u001b[39mif\u001b[39;00m image\u001b[39m.\u001b[39mmode \u001b[39m!=\u001b[39m base:\n\u001b[0;32m     82\u001b[0m         image \u001b[39m=\u001b[39m image\u001b[39m.\u001b[39mconvert(base)\n\u001b[1;32m---> 84\u001b[0m \u001b[39mreturn\u001b[39;00m \u001b[39mself\u001b[39;49m\u001b[39m.\u001b[39;49mshow_image(image, \u001b[39m*\u001b[39;49m\u001b[39m*\u001b[39;49moptions)\n",
      "File \u001b[1;32mc:\\Users\\Hwang\\AppData\\Local\\Programs\\Python\\Python311\\Lib\\site-packages\\PIL\\ImageShow.py:110\u001b[0m, in \u001b[0;36mViewer.show_image\u001b[1;34m(self, image, **options)\u001b[0m\n\u001b[0;32m    108\u001b[0m \u001b[39mdef\u001b[39;00m \u001b[39mshow_image\u001b[39m(\u001b[39mself\u001b[39m, image, \u001b[39m*\u001b[39m\u001b[39m*\u001b[39moptions):\n\u001b[0;32m    109\u001b[0m \u001b[39m    \u001b[39m\u001b[39m\"\"\"Display the given image.\"\"\"\u001b[39;00m\n\u001b[1;32m--> 110\u001b[0m     \u001b[39mreturn\u001b[39;00m \u001b[39mself\u001b[39m\u001b[39m.\u001b[39mshow_file(\u001b[39mself\u001b[39;49m\u001b[39m.\u001b[39;49msave_image(image), \u001b[39m*\u001b[39m\u001b[39m*\u001b[39moptions)\n",
      "File \u001b[1;32mc:\\Users\\Hwang\\AppData\\Local\\Programs\\Python\\Python311\\Lib\\site-packages\\PIL\\ImageShow.py:106\u001b[0m, in \u001b[0;36mViewer.save_image\u001b[1;34m(self, image)\u001b[0m\n\u001b[0;32m    104\u001b[0m \u001b[39mdef\u001b[39;00m \u001b[39msave_image\u001b[39m(\u001b[39mself\u001b[39m, image):\n\u001b[0;32m    105\u001b[0m \u001b[39m    \u001b[39m\u001b[39m\"\"\"Save to temporary file and return filename.\"\"\"\u001b[39;00m\n\u001b[1;32m--> 106\u001b[0m     \u001b[39mreturn\u001b[39;00m image\u001b[39m.\u001b[39;49m_dump(\u001b[39mformat\u001b[39;49m\u001b[39m=\u001b[39;49m\u001b[39mself\u001b[39;49m\u001b[39m.\u001b[39;49mget_format(image), \u001b[39m*\u001b[39;49m\u001b[39m*\u001b[39;49m\u001b[39mself\u001b[39;49m\u001b[39m.\u001b[39;49moptions)\n",
      "File \u001b[1;32mc:\\Users\\Hwang\\AppData\\Local\\Programs\\Python\\Python311\\Lib\\site-packages\\PIL\\Image.py:595\u001b[0m, in \u001b[0;36mImage._dump\u001b[1;34m(self, file, format, **options)\u001b[0m\n\u001b[0;32m    593\u001b[0m     \u001b[39mself\u001b[39m\u001b[39m.\u001b[39mim\u001b[39m.\u001b[39msave_ppm(filename)\n\u001b[0;32m    594\u001b[0m \u001b[39melse\u001b[39;00m:\n\u001b[1;32m--> 595\u001b[0m     \u001b[39mself\u001b[39;49m\u001b[39m.\u001b[39;49msave(filename, \u001b[39mformat\u001b[39;49m, \u001b[39m*\u001b[39;49m\u001b[39m*\u001b[39;49moptions)\n\u001b[0;32m    597\u001b[0m \u001b[39mreturn\u001b[39;00m filename\n",
      "File \u001b[1;32mc:\\Users\\Hwang\\AppData\\Local\\Programs\\Python\\Python311\\Lib\\site-packages\\PIL\\Image.py:2413\u001b[0m, in \u001b[0;36mImage.save\u001b[1;34m(self, fp, format, **params)\u001b[0m\n\u001b[0;32m   2410\u001b[0m         fp \u001b[39m=\u001b[39m builtins\u001b[39m.\u001b[39mopen(filename, \u001b[39m\"\u001b[39m\u001b[39mw+b\u001b[39m\u001b[39m\"\u001b[39m)\n\u001b[0;32m   2412\u001b[0m \u001b[39mtry\u001b[39;00m:\n\u001b[1;32m-> 2413\u001b[0m     save_handler(\u001b[39mself\u001b[39;49m, fp, filename)\n\u001b[0;32m   2414\u001b[0m \u001b[39mexcept\u001b[39;00m \u001b[39mException\u001b[39;00m:\n\u001b[0;32m   2415\u001b[0m     \u001b[39mif\u001b[39;00m open_fp:\n",
      "File \u001b[1;32mc:\\Users\\Hwang\\AppData\\Local\\Programs\\Python\\Python311\\Lib\\site-packages\\PIL\\PngImagePlugin.py:1218\u001b[0m, in \u001b[0;36m_save_all\u001b[1;34m(im, fp, filename)\u001b[0m\n\u001b[0;32m   1217\u001b[0m \u001b[39mdef\u001b[39;00m \u001b[39m_save_all\u001b[39m(im, fp, filename):\n\u001b[1;32m-> 1218\u001b[0m     _save(im, fp, filename, save_all\u001b[39m=\u001b[39;49m\u001b[39mTrue\u001b[39;49;00m)\n",
      "File \u001b[1;32mc:\\Users\\Hwang\\AppData\\Local\\Programs\\Python\\Python311\\Lib\\site-packages\\PIL\\PngImagePlugin.py:1396\u001b[0m, in \u001b[0;36m_save\u001b[1;34m(im, fp, filename, chunk, save_all)\u001b[0m\n\u001b[0;32m   1393\u001b[0m     chunk(fp, \u001b[39mb\u001b[39m\u001b[39m\"\u001b[39m\u001b[39meXIf\u001b[39m\u001b[39m\"\u001b[39m, exif)\n\u001b[0;32m   1395\u001b[0m \u001b[39mif\u001b[39;00m save_all:\n\u001b[1;32m-> 1396\u001b[0m     _write_multiple_frames(im, fp, chunk, rawmode, default_image, append_images)\n\u001b[0;32m   1397\u001b[0m \u001b[39melse\u001b[39;00m:\n\u001b[0;32m   1398\u001b[0m     ImageFile\u001b[39m.\u001b[39m_save(im, _idat(fp, chunk), [(\u001b[39m\"\u001b[39m\u001b[39mzip\u001b[39m\u001b[39m\"\u001b[39m, (\u001b[39m0\u001b[39m, \u001b[39m0\u001b[39m) \u001b[39m+\u001b[39m im\u001b[39m.\u001b[39msize, \u001b[39m0\u001b[39m, rawmode)])\n",
      "File \u001b[1;32mc:\\Users\\Hwang\\AppData\\Local\\Programs\\Python\\Python311\\Lib\\site-packages\\PIL\\PngImagePlugin.py:1202\u001b[0m, in \u001b[0;36m_write_multiple_frames\u001b[1;34m(im, fp, chunk, rawmode, default_image, append_images)\u001b[0m\n\u001b[0;32m   1199\u001b[0m \u001b[39m# frame data\u001b[39;00m\n\u001b[0;32m   1200\u001b[0m \u001b[39mif\u001b[39;00m frame \u001b[39m==\u001b[39m \u001b[39m0\u001b[39m \u001b[39mand\u001b[39;00m \u001b[39mnot\u001b[39;00m default_image:\n\u001b[0;32m   1201\u001b[0m     \u001b[39m# first frame must be in IDAT chunks for backwards compatibility\u001b[39;00m\n\u001b[1;32m-> 1202\u001b[0m     ImageFile\u001b[39m.\u001b[39;49m_save(\n\u001b[0;32m   1203\u001b[0m         im_frame,\n\u001b[0;32m   1204\u001b[0m         _idat(fp, chunk),\n\u001b[0;32m   1205\u001b[0m         [(\u001b[39m\"\u001b[39;49m\u001b[39mzip\u001b[39;49m\u001b[39m\"\u001b[39;49m, (\u001b[39m0\u001b[39;49m, \u001b[39m0\u001b[39;49m) \u001b[39m+\u001b[39;49m im_frame\u001b[39m.\u001b[39;49msize, \u001b[39m0\u001b[39;49m, rawmode)],\n\u001b[0;32m   1206\u001b[0m     )\n\u001b[0;32m   1207\u001b[0m \u001b[39melse\u001b[39;00m:\n\u001b[0;32m   1208\u001b[0m     fdat_chunks \u001b[39m=\u001b[39m _fdat(fp, chunk, seq_num)\n",
      "File \u001b[1;32mc:\\Users\\Hwang\\AppData\\Local\\Programs\\Python\\Python311\\Lib\\site-packages\\PIL\\ImageFile.py:519\u001b[0m, in \u001b[0;36m_save\u001b[1;34m(im, fp, tile, bufsize)\u001b[0m\n\u001b[0;32m    517\u001b[0m     _encode_tile(im, fp, tile, bufsize, fh)\n\u001b[0;32m    518\u001b[0m \u001b[39mexcept\u001b[39;00m (\u001b[39mAttributeError\u001b[39;00m, io\u001b[39m.\u001b[39mUnsupportedOperation) \u001b[39mas\u001b[39;00m exc:\n\u001b[1;32m--> 519\u001b[0m     _encode_tile(im, fp, tile, bufsize, \u001b[39mNone\u001b[39;49;00m, exc)\n\u001b[0;32m    520\u001b[0m \u001b[39mif\u001b[39;00m \u001b[39mhasattr\u001b[39m(fp, \u001b[39m\"\u001b[39m\u001b[39mflush\u001b[39m\u001b[39m\"\u001b[39m):\n\u001b[0;32m    521\u001b[0m     fp\u001b[39m.\u001b[39mflush()\n",
      "File \u001b[1;32mc:\\Users\\Hwang\\AppData\\Local\\Programs\\Python\\Python311\\Lib\\site-packages\\PIL\\ImageFile.py:538\u001b[0m, in \u001b[0;36m_encode_tile\u001b[1;34m(im, fp, tile, bufsize, fh, exc)\u001b[0m\n\u001b[0;32m    535\u001b[0m \u001b[39mif\u001b[39;00m exc:\n\u001b[0;32m    536\u001b[0m     \u001b[39m# compress to Python file-compatible object\u001b[39;00m\n\u001b[0;32m    537\u001b[0m     \u001b[39mwhile\u001b[39;00m \u001b[39mTrue\u001b[39;00m:\n\u001b[1;32m--> 538\u001b[0m         errcode, data \u001b[39m=\u001b[39m encoder\u001b[39m.\u001b[39;49mencode(bufsize)[\u001b[39m1\u001b[39m:]\n\u001b[0;32m    539\u001b[0m         fp\u001b[39m.\u001b[39mwrite(data)\n\u001b[0;32m    540\u001b[0m         \u001b[39mif\u001b[39;00m errcode:\n",
      "\u001b[1;31mKeyboardInterrupt\u001b[0m: "
     ]
    }
   ],
   "source": [
    "#폴더 내 이미지 불러오기\n",
    "img = Image.open(\"rock.jpg\")\n",
    "\n",
    "#이미지 표시\n",
    "img.show()"
   ]
  },
  {
   "cell_type": "code",
   "execution_count": null,
   "metadata": {},
   "outputs": [],
   "source": [
    "#이미지 크기 변경(2560x1280)\n",
    "img_resized = img.resize((2560,1280), resample=None)\n",
    "\n",
    "#크기 변경된 이미지 표시\n",
    "img_resized.show()"
   ]
  },
  {
   "cell_type": "code",
   "execution_count": null,
   "metadata": {},
   "outputs": [],
   "source": [
    "#불러온 이미지 자르기\n",
    "img_cropped = img.crop((0,0 , 960,640))\n",
    "\n",
    "#자른 이미지 불러오기\n",
    "img_cropped.show()"
   ]
  },
  {
   "cell_type": "code",
   "execution_count": null,
   "metadata": {},
   "outputs": [],
   "source": [
    "#반시계 방향으로 90도 회전\n",
    "img_rotated = img.rotate(90)\n",
    "\n",
    "#회전된 이미지 불러오기\n",
    "img_rotated.show()"
   ]
  },
  {
   "cell_type": "code",
   "execution_count": null,
   "metadata": {},
   "outputs": [],
   "source": [
    "#좌우 반전\n",
    "img_fliped_LR= img.transpose(Image.FLIP_LEFT_RIGHT)\n",
    "img_fliped_LR.show()\n",
    "\n",
    "#상하반전\n",
    "img_fliped_TB = img.transpose(Image.FLIP_TOP_BOTTOM)\n",
    "img_fliped_TB.show()\n",
    "\n",
    "#상하반전 사진 저장\n",
    "img_fliped_TB.save(\"저장할 파일 이름.jpg\")"
   ]
  },
  {
   "cell_type": "code",
   "execution_count": null,
   "metadata": {},
   "outputs": [],
   "source": [
    "img1 = img\n",
    "img2 = img_fliped_TB\n",
    "\n",
    "#사진 사이즈 재조정\n",
    "img1 = img1.resize((450, 163))\n",
    "img2 = img2.resize((450, 163))\n",
    "\n",
    "img1_size = img1.size\n",
    "img2_size = img2.size\n",
    "new_img = Image.new('RGB',(2*img1_size[0], img1_size[1]), (250,250,250)) #새로운 이미지 생성 (한 사진의 가로 세로 2배), (R, G, B)\n",
    "\n",
    "#이미지 붙여 넣기\n",
    "new_img.paste(img1,(0,0))\n",
    "new_img.paste(img2,(img1_size[0],0))\n",
    "\n",
    "new_img.save(\"merged_img.jpg\",\"JPEG\")"
   ]
  },
  {
   "cell_type": "markdown",
   "metadata": {},
   "source": [
    "#이미지 필터 사용하기\n",
    "\n",
    "종류\n",
    "\n",
    "BLUR: 이미지를 부드럽게 만듭니다.\n",
    "\n",
    "CONTOUR: 이미지의 윤곽선을 강조합니다.\n",
    "\n",
    "DETAIL: 이미지의 디테일을 강조합니다.\n",
    "\n",
    "EDGE_ENHANCE: 이미지의 윤곽선을 더 강조합니다.\n",
    "\n",
    "EDGE_ENHANCE_MORE: 이미지의 윤곽선을 가장 강조합니다.\n",
    "\n",
    "EMBOSS: 이미지에 엠보싱 효과를 적용합니다.\n",
    "\n",
    "FIND_EDGES: 이미지의 윤곽선만 남깁니다.\n",
    "\n",
    "SHARPEN: 이미지를 선명하게 만듭니다.\n",
    "\n",
    "SMOOTH: 이미지의 노이즈를 제거합니다.\n",
    "\n",
    "SMOOTH_MORE: 이미지의 노이즈를 더 제거합니다."
   ]
  },
  {
   "cell_type": "code",
   "execution_count": 4,
   "metadata": {},
   "outputs": [],
   "source": [
    "from PIL import ImageFilter"
   ]
  },
  {
   "cell_type": "code",
   "execution_count": null,
   "metadata": {},
   "outputs": [],
   "source": [
    "#이런 방식으로 적어서 filter을 사용할수 있음\n",
    "img_blur = img.filter(ImageFilter.BLUR)"
   ]
  },
  {
   "cell_type": "code",
   "execution_count": 7,
   "metadata": {},
   "outputs": [],
   "source": [
    "import numpy as np\n",
    "\n",
    "img_np = np.array(img) #이미지를 numpy 배열로 변환\n",
    "\n",
    "img_re = Image.fromarray(img_np) #numpy 배열을 이미지로 변환\n",
    "\n",
    "img.show(img_re)"
   ]
  },
  {
   "cell_type": "code",
   "execution_count": null,
   "metadata": {},
   "outputs": [],
   "source": []
  }
 ],
 "metadata": {
  "kernelspec": {
   "display_name": "Python 3",
   "language": "python",
   "name": "python3"
  },
  "language_info": {
   "codemirror_mode": {
    "name": "ipython",
    "version": 3
   },
   "file_extension": ".py",
   "mimetype": "text/x-python",
   "name": "python",
   "nbconvert_exporter": "python",
   "pygments_lexer": "ipython3",
   "version": "3.11.2"
  }
 },
 "nbformat": 4,
 "nbformat_minor": 2
}
