{
 "cells": [
  {
   "cell_type": "markdown",
   "metadata": {},
   "source": [
    "#이미지 변환 해보기"
   ]
  },
  {
   "cell_type": "code",
   "execution_count": 3,
   "metadata": {},
   "outputs": [],
   "source": [
    "from PIL import Image"
   ]
  },
  {
   "cell_type": "code",
   "execution_count": 11,
   "metadata": {},
   "outputs": [],
   "source": [
    "#폴더 내 이미지 불러오기\n",
    "img = Image.open(\"rock.jpg\")\n",
    "\n",
    "#이미지 표시\n",
    "img.show()"
   ]
  },
  {
   "cell_type": "code",
   "execution_count": 17,
   "metadata": {},
   "outputs": [],
   "source": [
    "#이미지 크기 변경(2560x1280)\n",
    "img_resized = img.resize((2560,1280), resample=None)\n",
    "\n",
    "#크기 변경된 이미지 표시\n",
    "img_resized.show()"
   ]
  },
  {
   "cell_type": "code",
   "execution_count": 13,
   "metadata": {},
   "outputs": [],
   "source": [
    "#불러온 이미지 자르기\n",
    "img_cropped = img.crop((0,0 , 960,640))\n",
    "\n",
    "#자른 이미지 불러오기\n",
    "img_cropped.show()"
   ]
  },
  {
   "cell_type": "code",
   "execution_count": 15,
   "metadata": {},
   "outputs": [],
   "source": [
    "#반시계 방향으로 90도 회전\n",
    "img_rotated = img.rotate(90)\n",
    "\n",
    "#회전된 이미지 불러오기\n",
    "img_rotated.show()"
   ]
  },
  {
   "cell_type": "code",
   "execution_count": 18,
   "metadata": {},
   "outputs": [],
   "source": [
    "#좌우 반전\n",
    "img_fliped_LR= img.transpose(Image.FLIP_LEFT_RIGHT)\n",
    "img_fliped_LR.show()\n",
    "\n",
    "#상하반전\n",
    "img_fliped_TB = img.transpose(Image.FLIP_TOP_BOTTOM)\n",
    "img_fliped_TB.show()\n"
   ]
  },
  {
   "cell_type": "markdown",
   "metadata": {},
   "source": [
    "\n"
   ]
  },
  {
   "cell_type": "markdown",
   "metadata": {},
   "source": [
    "#이미지 필터 사용하기\n",
    "\n",
    "종류\n",
    "\n",
    "BLUR: 이미지를 부드럽게 만듭니다.\n",
    "\n",
    "CONTOUR: 이미지의 윤곽선을 강조합니다.\n",
    "\n",
    "DETAIL: 이미지의 디테일을 강조합니다.\n",
    "\n",
    "EDGE_ENHANCE: 이미지의 윤곽선을 더 강조합니다.\n",
    "\n",
    "EDGE_ENHANCE_MORE: 이미지의 윤곽선을 가장 강조합니다.\n",
    "\n",
    "EMBOSS: 이미지에 엠보싱 효과를 적용합니다.\n",
    "\n",
    "FIND_EDGES: 이미지의 윤곽선만 남깁니다.\n",
    "\n",
    "SHARPEN: 이미지를 선명하게 만듭니다.\n",
    "\n",
    "SMOOTH: 이미지의 노이즈를 제거합니다.\n",
    "\n",
    "SMOOTH_MORE: 이미지의 노이즈를 더 제거합니다."
   ]
  },
  {
   "cell_type": "code",
   "execution_count": null,
   "metadata": {},
   "outputs": [],
   "source": [
    "from PIL import ImageFilter"
   ]
  },
  {
   "cell_type": "code",
   "execution_count": 21,
   "metadata": {},
   "outputs": [],
   "source": [
    "#이런 방식으로 적어서 filter을 사용할수 있음\n",
    "img_blur = img.filter(ImageFilter.BLUR)"
   ]
  }
 ],
 "metadata": {
  "kernelspec": {
   "display_name": "Python 3",
   "language": "python",
   "name": "python3"
  },
  "language_info": {
   "codemirror_mode": {
    "name": "ipython",
    "version": 3
   },
   "file_extension": ".py",
   "mimetype": "text/x-python",
   "name": "python",
   "nbconvert_exporter": "python",
   "pygments_lexer": "ipython3",
   "version": "3.11.2"
  }
 },
 "nbformat": 4,
 "nbformat_minor": 2
}
