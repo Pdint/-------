{
 "cells": [
  {
   "cell_type": "markdown",
   "metadata": {},
   "source": [
    "#이미지 변환 해보기"
   ]
  },
  {
   "cell_type": "code",
   "execution_count": 2,
   "metadata": {},
   "outputs": [],
   "source": [
    "from PIL import Image"
   ]
  },
  {
   "cell_type": "code",
   "execution_count": 3,
   "metadata": {},
   "outputs": [],
   "source": [
    "#폴더 내 이미지 불러오기\n",
    "img = Image.open(\"rock.jpg\")\n",
    "\n",
    "#이미지 표시\n",
    "img.show()"
   ]
  },
  {
   "cell_type": "code",
   "execution_count": null,
   "metadata": {},
   "outputs": [],
   "source": [
    "#이미지 크기 변경(2560x1280)\n",
    "img_resized = img.resize((2560,1280), resample=None)\n",
    "\n",
    "#크기 변경된 이미지 표시\n",
    "img_resized.show()"
   ]
  },
  {
   "cell_type": "code",
   "execution_count": null,
   "metadata": {},
   "outputs": [],
   "source": [
    "#불러온 이미지 자르기\n",
    "img_cropped = img.crop((0,0 , 960,640))\n",
    "\n",
    "#자른 이미지 불러오기\n",
    "img_cropped.show()"
   ]
  },
  {
   "cell_type": "code",
   "execution_count": null,
   "metadata": {},
   "outputs": [],
   "source": [
    "#반시계 방향으로 90도 회전\n",
    "img_rotated = img.rotate(90)\n",
    "\n",
    "#회전된 이미지 불러오기\n",
    "img_rotated.show()"
   ]
  },
  {
   "cell_type": "code",
   "execution_count": null,
   "metadata": {},
   "outputs": [],
   "source": [
    "#좌우 반전\n",
    "img_fliped_LR= img.transpose(Image.FLIP_LEFT_RIGHT)\n",
    "img_fliped_LR.show()\n",
    "\n",
    "#상하반전\n",
    "img_fliped_TB = img.transpose(Image.FLIP_TOP_BOTTOM)\n",
    "img_fliped_TB.show()\n",
    "\n",
    "#상하반전 사진 저장\n",
    "img_fliped_TB.save(\"저장할 파일 이름.jpg\")"
   ]
  },
  {
   "cell_type": "code",
   "execution_count": null,
   "metadata": {},
   "outputs": [],
   "source": [
    "img1 = img\n",
    "img2 = img_fliped_TB\n",
    "\n",
    "#사진 사이즈 재조정\n",
    "img1 = img1.resize((450, 163))\n",
    "img2 = img2.resize((450, 163))\n",
    "\n",
    "img1_size = img1.size\n",
    "img2_size = img2.size\n",
    "new_img = Image.new('RGB',(2*img1_size[0], img1_size[1]), (250,250,250)) #새로운 이미지 생성 (한 사진의 가로 세로 2배), (R, G, B)\n",
    "\n",
    "#이미지 붙여 넣기\n",
    "new_img.paste(img1,(0,0))\n",
    "new_img.paste(img2,(img1_size[0],0))\n",
    "\n",
    "new_img.save(\"merged_img.jpg\",\"JPEG\")"
   ]
  },
  {
   "cell_type": "markdown",
   "metadata": {},
   "source": [
    "#이미지 필터 사용하기\n",
    "\n",
    "종류\n",
    "\n",
    "BLUR: 이미지를 부드럽게 만듭니다.\n",
    "\n",
    "CONTOUR: 이미지의 윤곽선을 강조합니다.\n",
    "\n",
    "DETAIL: 이미지의 디테일을 강조합니다.\n",
    "\n",
    "EDGE_ENHANCE: 이미지의 윤곽선을 더 강조합니다.\n",
    "\n",
    "EDGE_ENHANCE_MORE: 이미지의 윤곽선을 가장 강조합니다.\n",
    "\n",
    "EMBOSS: 이미지에 엠보싱 효과를 적용합니다.\n",
    "\n",
    "FIND_EDGES: 이미지의 윤곽선만 남깁니다.\n",
    "\n",
    "SHARPEN: 이미지를 선명하게 만듭니다.\n",
    "\n",
    "SMOOTH: 이미지의 노이즈를 제거합니다.\n",
    "\n",
    "SMOOTH_MORE: 이미지의 노이즈를 더 제거합니다."
   ]
  },
  {
   "cell_type": "code",
   "execution_count": 6,
   "metadata": {},
   "outputs": [],
   "source": [
    "from PIL import ImageFilter"
   ]
  },
  {
   "cell_type": "code",
   "execution_count": 8,
   "metadata": {},
   "outputs": [],
   "source": [
    "#이런 방식으로 적어서 filter을 사용할수 있음\n",
    "img_blur = img.filter(ImageFilter.BLUR)\n",
    "img_contour = img.filter(ImageFilter.CONTOUR)\n",
    "img_detail = img.filter(ImageFilter.DETAIL)\n",
    "img_edge_enhance = img.filter(ImageFilter.EDGE_ENHANCE)\n",
    "img_edge_enhance_more = img.filter(ImageFilter.EDGE_ENHANCE_MORE)\n",
    "img_emboss = img.filter(ImageFilter.EMBOSS)\n",
    "img_find_edges = img.filter(ImageFilter.FIND_EDGES)\n",
    "img_sharpen = img.filter(ImageFilter.SHARPEN)\n",
    "img_smooth = img.filter(ImageFilter.SMOOTH)\n",
    "img_smooth_more = img.filter(ImageFilter.SMOOTH_MORE)"
   ]
  },
  {
   "cell_type": "code",
   "execution_count": 7,
   "metadata": {},
   "outputs": [],
   "source": [
    "import numpy as np\n",
    "\n",
    "img_np = np.array(img) #이미지를 numpy 배열로 변환\n",
    "\n",
    "img_re = Image.fromarray(img_np) #numpy 배열을 이미지로 변환\n",
    "\n",
    "img.show(img_re)"
   ]
  },
  {
   "cell_type": "code",
   "execution_count": null,
   "metadata": {},
   "outputs": [],
   "source": []
  }
 ],
 "metadata": {
  "kernelspec": {
   "display_name": "Python 3",
   "language": "python",
   "name": "python3"
  },
  "language_info": {
   "codemirror_mode": {
    "name": "ipython",
    "version": 3
   },
   "file_extension": ".py",
   "mimetype": "text/x-python",
   "name": "python",
   "nbconvert_exporter": "python",
   "pygments_lexer": "ipython3",
   "version": "3.11.2"
  }
 },
 "nbformat": 4,
 "nbformat_minor": 2
}
