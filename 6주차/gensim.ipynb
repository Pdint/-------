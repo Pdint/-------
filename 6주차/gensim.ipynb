{
 "cells": [
  {
   "cell_type": "code",
   "execution_count": 6,
   "metadata": {},
   "outputs": [
    {
     "name": "stdout",
     "output_type": "stream",
     "text": [
      "Collecting gensim==3.8.3\n",
      "  Downloading gensim-3.8.3-cp38-cp38-win_amd64.whl (24.2 MB)\n",
      "     ---------------------------------------- 0.0/24.2 MB ? eta -:--:--\n",
      "      --------------------------------------- 0.3/24.2 MB 6.9 MB/s eta 0:00:04\n",
      "     - -------------------------------------- 0.9/24.2 MB 8.3 MB/s eta 0:00:03\n",
      "     -- ------------------------------------- 1.6/24.2 MB 10.2 MB/s eta 0:00:03\n",
      "     -- ------------------------------------- 1.8/24.2 MB 9.6 MB/s eta 0:00:03\n",
      "     --- ------------------------------------ 2.4/24.2 MB 9.5 MB/s eta 0:00:03\n",
      "     ----- ---------------------------------- 3.0/24.2 MB 10.2 MB/s eta 0:00:03\n",
      "     ----- ---------------------------------- 3.5/24.2 MB 11.1 MB/s eta 0:00:02\n",
      "     ------ --------------------------------- 4.1/24.2 MB 10.4 MB/s eta 0:00:02\n",
      "     ------- -------------------------------- 4.3/24.2 MB 10.5 MB/s eta 0:00:02\n",
      "     ------- -------------------------------- 4.8/24.2 MB 10.0 MB/s eta 0:00:02\n",
      "     -------- ------------------------------- 5.3/24.2 MB 10.3 MB/s eta 0:00:02\n",
      "     -------- ------------------------------- 5.4/24.2 MB 9.2 MB/s eta 0:00:03\n",
      "     --------- ------------------------------ 5.9/24.2 MB 9.4 MB/s eta 0:00:02\n",
      "     ---------- ----------------------------- 6.3/24.2 MB 9.4 MB/s eta 0:00:02\n",
      "     ----------- ---------------------------- 6.8/24.2 MB 9.7 MB/s eta 0:00:02\n",
      "     ------------ --------------------------- 7.3/24.2 MB 9.7 MB/s eta 0:00:02\n",
      "     ------------ --------------------------- 7.7/24.2 MB 9.7 MB/s eta 0:00:02\n",
      "     ------------- -------------------------- 8.2/24.2 MB 9.5 MB/s eta 0:00:02\n",
      "     -------------- ------------------------- 8.6/24.2 MB 9.7 MB/s eta 0:00:02\n",
      "     -------------- ------------------------- 8.9/24.2 MB 9.6 MB/s eta 0:00:02\n",
      "     --------------- ------------------------ 9.2/24.2 MB 9.3 MB/s eta 0:00:02\n",
      "     --------------- ------------------------ 9.6/24.2 MB 9.3 MB/s eta 0:00:02\n",
      "     ---------------- ----------------------- 10.1/24.2 MB 9.3 MB/s eta 0:00:02\n",
      "     ----------------- ---------------------- 10.6/24.2 MB 9.6 MB/s eta 0:00:02\n",
      "     ------------------ --------------------- 11.1/24.2 MB 9.2 MB/s eta 0:00:02\n",
      "     ------------------- -------------------- 11.5/24.2 MB 9.2 MB/s eta 0:00:02\n",
      "     ------------------- -------------------- 11.9/24.2 MB 9.0 MB/s eta 0:00:02\n",
      "     -------------------- ------------------- 12.6/24.2 MB 9.2 MB/s eta 0:00:02\n",
      "     --------------------- ------------------ 13.0/24.2 MB 9.0 MB/s eta 0:00:02\n",
      "     ---------------------- ----------------- 13.3/24.2 MB 9.0 MB/s eta 0:00:02\n",
      "     ---------------------- ----------------- 13.9/24.2 MB 8.8 MB/s eta 0:00:02\n",
      "     ----------------------- ---------------- 14.2/24.2 MB 8.8 MB/s eta 0:00:02\n",
      "     ------------------------ --------------- 14.7/24.2 MB 9.0 MB/s eta 0:00:02\n",
      "     ------------------------- -------------- 15.2/24.2 MB 9.0 MB/s eta 0:00:02\n",
      "     ------------------------- -------------- 15.6/24.2 MB 9.6 MB/s eta 0:00:01\n",
      "     -------------------------- ------------- 16.1/24.2 MB 9.2 MB/s eta 0:00:01\n",
      "     --------------------------- ------------ 16.6/24.2 MB 9.2 MB/s eta 0:00:01\n",
      "     ---------------------------- ----------- 17.1/24.2 MB 9.2 MB/s eta 0:00:01\n",
      "     ----------------------------- ---------- 17.6/24.2 MB 9.6 MB/s eta 0:00:01\n",
      "     ----------------------------- ---------- 18.0/24.2 MB 9.2 MB/s eta 0:00:01\n",
      "     ------------------------------ --------- 18.3/24.2 MB 9.1 MB/s eta 0:00:01\n",
      "     ------------------------------ --------- 18.7/24.2 MB 9.2 MB/s eta 0:00:01\n",
      "     ------------------------------- -------- 19.2/24.2 MB 9.4 MB/s eta 0:00:01\n",
      "     -------------------------------- ------- 19.5/24.2 MB 9.4 MB/s eta 0:00:01\n",
      "     -------------------------------- ------- 19.8/24.2 MB 9.2 MB/s eta 0:00:01\n",
      "     --------------------------------- ------ 20.2/24.2 MB 9.1 MB/s eta 0:00:01\n",
      "     --------------------------------- ------ 20.5/24.2 MB 8.8 MB/s eta 0:00:01\n",
      "     --------------------------------- ------ 20.5/24.2 MB 8.8 MB/s eta 0:00:01\n",
      "     --------------------------------- ------ 20.5/24.2 MB 8.2 MB/s eta 0:00:01\n",
      "     ---------------------------------- ----- 20.7/24.2 MB 8.0 MB/s eta 0:00:01\n",
      "     ---------------------------------- ----- 21.1/24.2 MB 7.9 MB/s eta 0:00:01\n",
      "     ----------------------------------- ---- 21.3/24.2 MB 7.8 MB/s eta 0:00:01\n",
      "     ----------------------------------- ---- 21.6/24.2 MB 7.7 MB/s eta 0:00:01\n",
      "     ------------------------------------ --- 22.0/24.2 MB 7.6 MB/s eta 0:00:01\n",
      "     ------------------------------------ --- 22.3/24.2 MB 7.5 MB/s eta 0:00:01\n",
      "     ------------------------------------- -- 22.6/24.2 MB 7.5 MB/s eta 0:00:01\n",
      "     ------------------------------------- -- 22.7/24.2 MB 7.3 MB/s eta 0:00:01\n",
      "     -------------------------------------- - 23.0/24.2 MB 7.2 MB/s eta 0:00:01\n",
      "     -------------------------------------- - 23.3/24.2 MB 7.2 MB/s eta 0:00:01\n",
      "     ---------------------------------------  23.6/24.2 MB 7.0 MB/s eta 0:00:01\n",
      "     ---------------------------------------  23.8/24.2 MB 7.0 MB/s eta 0:00:01\n",
      "     ---------------------------------------  24.2/24.2 MB 6.9 MB/s eta 0:00:01\n",
      "     ---------------------------------------  24.2/24.2 MB 6.9 MB/s eta 0:00:01\n",
      "     ---------------------------------------- 24.2/24.2 MB 6.3 MB/s eta 0:00:00\n",
      "Requirement already satisfied: numpy>=1.11.3 in g:\\user\\hwang\\documents\\github\\crwling-r\\.venv\\lib\\site-packages (from gensim==3.8.3) (1.24.4)\n",
      "Requirement already satisfied: scipy>=0.18.1 in g:\\user\\hwang\\documents\\github\\crwling-r\\.venv\\lib\\site-packages (from gensim==3.8.3) (1.10.1)\n",
      "Requirement already satisfied: six>=1.5.0 in g:\\user\\hwang\\documents\\github\\crwling-r\\.venv\\lib\\site-packages (from gensim==3.8.3) (1.16.0)\n",
      "Requirement already satisfied: smart-open>=1.8.1 in g:\\user\\hwang\\documents\\github\\crwling-r\\.venv\\lib\\site-packages (from gensim==3.8.3) (6.4.0)\n",
      "Collecting Cython==0.29.14 (from gensim==3.8.3)\n",
      "  Downloading Cython-0.29.14-cp38-cp38-win_amd64.whl (1.7 MB)\n",
      "     ---------------------------------------- 0.0/1.7 MB ? eta -:--:--\n",
      "     ------ --------------------------------- 0.3/1.7 MB 8.9 MB/s eta 0:00:01\n",
      "     ----------- ---------------------------- 0.5/1.7 MB 6.0 MB/s eta 0:00:01\n",
      "     ------------------ --------------------- 0.8/1.7 MB 5.5 MB/s eta 0:00:01\n",
      "     ------------------------ --------------- 1.0/1.7 MB 6.0 MB/s eta 0:00:01\n",
      "     -------------------------------- ------- 1.4/1.7 MB 6.3 MB/s eta 0:00:01\n",
      "     ---------------------------------------  1.7/1.7 MB 6.0 MB/s eta 0:00:01\n",
      "     ---------------------------------------- 1.7/1.7 MB 5.8 MB/s eta 0:00:00\n",
      "Installing collected packages: Cython, gensim\n",
      "  Attempting uninstall: gensim\n",
      "    Found existing installation: gensim 3.8.0\n",
      "    Uninstalling gensim-3.8.0:\n",
      "      Successfully uninstalled gensim-3.8.0\n",
      "Note: you may need to restart the kernel to use updated packages.\n"
     ]
    },
    {
     "name": "stderr",
     "output_type": "stream",
     "text": [
      "ERROR: Could not install packages due to an OSError: [WinError 5] 액세스가 거부되었습니다: 'G:\\\\User\\\\Hwang\\\\Documents\\\\GitHub\\\\Crwling-r\\\\.venv\\\\Lib\\\\site-packages\\\\~ensim\\\\corpora\\\\_mmreader.cp38-win_amd64.pyd'\n",
      "Check the permissions.\n",
      "\n"
     ]
    }
   ],
   "source": [
    "pip install gensim==3.8.3"
   ]
  },
  {
   "cell_type": "code",
   "execution_count": 8,
   "metadata": {},
   "outputs": [],
   "source": [
    "from gensim.summarization.summarizer import summarize"
   ]
  },
  {
   "cell_type": "code",
   "execution_count": 7,
   "metadata": {},
   "outputs": [],
   "source": [
    "text = '''Not even a studio in Hollywood can make a horror movie to describe what we have seen here,\" an Israeli volunteer has told the BBC's international editor Jeremy Bowen.\n",
    "The volunteer was among a team clearing debris in shattered buildings and collecting bodies in an Israeli kibbutz that is right by the Gaza Strip.\n",
    "\"We're here to give them a proper Jewish burial. To take care of them properly,\" he said.\n",
    "Also, our chief international correspondent Lyse Doucet has spoken to the mayor of the Israeli town Sderot and asked how he wanted his country to respond to the Hamas attack. Our Middle East correspondent Tom Bateman also gave his reflections on his seven years of reporting from Jerusalem.'''"
   ]
  },
  {
   "cell_type": "code",
   "execution_count": 9,
   "metadata": {},
   "outputs": [
    {
     "name": "stdout",
     "output_type": "stream",
     "text": [
      "Also, our chief international correspondent Lyse Doucet has spoken to the mayor of the Israeli town Sderot and asked how he wanted his country to respond to the Hamas attack.\n"
     ]
    },
    {
     "ename": "",
     "evalue": "",
     "output_type": "error",
     "traceback": [
      "\u001b[1;31m현재 셀 또는 이전 셀에서 코드를 실행하는 동안 Kernel이 충돌했습니다. 셀의 코드를 검토하여 오류의 가능한 원인을 식별하세요. 자세한 내용을 보려면 <a href='https://aka.ms/vscodeJupyterKernelCrash'> 여기 </a> 를 클릭하세요. 자세한 내용은 Jupyter <a href='command:jupyter.viewOutput'>로그</a>를 참조하세요."
     ]
    }
   ],
   "source": [
    "print(summarize(text))"
   ]
  }
 ],
 "metadata": {
  "kernelspec": {
   "display_name": "Python 3",
   "language": "python",
   "name": "python3"
  },
  "language_info": {
   "codemirror_mode": {
    "name": "ipython",
    "version": 3
   },
   "file_extension": ".py",
   "mimetype": "text/x-python",
   "name": "python",
   "nbconvert_exporter": "python",
   "pygments_lexer": "ipython3",
   "version": "3.8.0"
  }
 },
 "nbformat": 4,
 "nbformat_minor": 2
}
